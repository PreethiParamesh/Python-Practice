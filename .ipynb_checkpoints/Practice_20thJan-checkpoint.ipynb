{
 "cells": [
  {
   "cell_type": "code",
   "execution_count": 18,
   "id": "c5fc70ad",
   "metadata": {},
   "outputs": [
    {
     "name": "stdout",
     "output_type": "stream",
     "text": [
      "-30.7+9j dfdf df dfd fd f d fd f df df d \n",
      "dfdfdfdfdf\n",
      "ls;klskdf\n"
     ]
    }
   ],
   "source": [
    "#literals\n",
    "intvalue=\"\"\"-30.7+9j dfdf df dfd fd f d fd f df df d \n",
    "dfdfdfdfdf\n",
    "ls;klskdf\"\"\"\n",
    "print(intvalue)"
   ]
  },
  {
   "cell_type": "code",
   "execution_count": 19,
   "id": "b974cb38",
   "metadata": {},
   "outputs": [
    {
     "data": {
      "text/plain": [
       "3.14"
      ]
     },
     "execution_count": 19,
     "metadata": {},
     "output_type": "execute_result"
    }
   ],
   "source": [
    "#constants\n",
    "PI=3.14\n",
    "PI"
   ]
  },
  {
   "cell_type": "code",
   "execution_count": 28,
   "id": "307342f4",
   "metadata": {},
   "outputs": [
    {
     "data": {
      "text/plain": [
       "9"
      ]
     },
     "execution_count": 28,
     "metadata": {},
     "output_type": "execute_result"
    }
   ],
   "source": [
    "#constants\n",
    "PI=9\n",
    "PI"
   ]
  },
  {
   "cell_type": "code",
   "execution_count": 57,
   "id": "858e74db",
   "metadata": {},
   "outputs": [],
   "source": [
    "#variables,constants,functions,classname rule check\n",
    "op=10\n",
    "op\n",
    "def true():\n",
    "    false\n"
   ]
  },
  {
   "cell_type": "code",
   "execution_count": 40,
   "id": "33f612f3",
   "metadata": {},
   "outputs": [
    {
     "name": "stdout",
     "output_type": "stream",
     "text": [
      "18 0\n"
     ]
    }
   ],
   "source": [
    "#expression\n",
    "10\n",
    "a=9\n",
    "b=9\n",
    "10\n",
    "c=a+b\n",
    "d=a-b\n",
    "print(c,d)"
   ]
  },
  {
   "cell_type": "code",
   "execution_count": 41,
   "id": "e1c17510",
   "metadata": {},
   "outputs": [],
   "source": [
    "#statements\n",
    "a=10\n",
    "b=90\n"
   ]
  },
  {
   "cell_type": "code",
   "execution_count": 55,
   "id": "20357a8b",
   "metadata": {},
   "outputs": [
    {
     "name": "stdout",
     "output_type": "stream",
     "text": [
      "a is true\n"
     ]
    }
   ],
   "source": [
    "#block statements\n",
    "a=True\n",
    "b=False\n",
    "if a:\n",
    "    print(\"a is true\")\n",
    "    \n",
    "elif b:\n",
    "    print(\"b is false\")\n",
    "        "
   ]
  },
  {
   "cell_type": "code",
   "execution_count": 46,
   "id": "415fe806",
   "metadata": {},
   "outputs": [
    {
     "name": "stdout",
     "output_type": "stream",
     "text": [
      "['False', 'None', 'True', '__peg_parser__', 'and', 'as', 'assert', 'async', 'await', 'break', 'class', 'continue', 'def', 'del', 'elif', 'else', 'except', 'finally', 'for', 'from', 'global', 'if', 'import', 'in', 'is', 'lambda', 'nonlocal', 'not', 'or', 'pass', 'raise', 'return', 'try', 'while', 'with', 'yield']\n"
     ]
    }
   ],
   "source": [
    "#keyword list\n",
    "import keyword\n",
    "print (keyword.kwlist)"
   ]
  },
  {
   "cell_type": "code",
   "execution_count": null,
   "id": "7d655568",
   "metadata": {},
   "outputs": [],
   "source": []
  }
 ],
 "metadata": {
  "kernelspec": {
   "display_name": "Python 3 (ipykernel)",
   "language": "python",
   "name": "python3"
  },
  "language_info": {
   "codemirror_mode": {
    "name": "ipython",
    "version": 3
   },
   "file_extension": ".py",
   "mimetype": "text/x-python",
   "name": "python",
   "nbconvert_exporter": "python",
   "pygments_lexer": "ipython3",
   "version": "3.9.7"
  }
 },
 "nbformat": 4,
 "nbformat_minor": 5
}
